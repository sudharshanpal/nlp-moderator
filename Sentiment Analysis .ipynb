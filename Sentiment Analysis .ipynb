{
 "cells": [
  {
   "cell_type": "markdown",
   "id": "4e574001",
   "metadata": {},
   "source": [
    "# Sentiment Analysis Project\n",
    "\n",
    "## Overview\n",
    "This project classifies tweets as hate speech, offensive language, or neither using deep learning. It involves preprocessing text data and training an LSTM-based neural network using TensorFlow/Keras."
   ]
  },
  {
   "cell_type": "markdown",
   "id": "56c427a7",
   "metadata": {},
   "source": [
    "## 1. Import Required Libraries\n",
    "Note: You may encounter several errors or warnings related to TensorFlow package downloads, but these will not affect the functionality or accuracy of the model. Optionally, to remove the warnings, you can run the following code underneath:\n",
    "\n",
    "```import warnings```\n",
    "<br>\n",
    "```warnings.filterwarnings('ignore')```"
   ]
  },
  {
   "cell_type": "code",
   "execution_count": 1,
   "id": "97c6a8f1",
   "metadata": {},
   "outputs": [
    {
     "name": "stderr",
     "output_type": "stream",
     "text": [
      "2025-08-05 22:21:38.404872: I tensorflow/core/util/port.cc:113] oneDNN custom operations are on. You may see slightly different numerical results due to floating-point round-off errors from different computation orders. To turn them off, set the environment variable `TF_ENABLE_ONEDNN_OPTS=0`.\n",
      "2025-08-05 22:21:38.407866: I external/local_tsl/tsl/cuda/cudart_stub.cc:31] Could not find cuda drivers on your machine, GPU will not be used.\n",
      "2025-08-05 22:21:38.440717: E external/local_xla/xla/stream_executor/cuda/cuda_dnn.cc:9261] Unable to register cuDNN factory: Attempting to register factory for plugin cuDNN when one has already been registered\n",
      "2025-08-05 22:21:38.440751: E external/local_xla/xla/stream_executor/cuda/cuda_fft.cc:607] Unable to register cuFFT factory: Attempting to register factory for plugin cuFFT when one has already been registered\n",
      "2025-08-05 22:21:38.441640: E external/local_xla/xla/stream_executor/cuda/cuda_blas.cc:1515] Unable to register cuBLAS factory: Attempting to register factory for plugin cuBLAS when one has already been registered\n",
      "2025-08-05 22:21:38.447020: I external/local_tsl/tsl/cuda/cudart_stub.cc:31] Could not find cuda drivers on your machine, GPU will not be used.\n",
      "2025-08-05 22:21:38.447445: I tensorflow/core/platform/cpu_feature_guard.cc:182] This TensorFlow binary is optimized to use available CPU instructions in performance-critical operations.\n",
      "To enable the following instructions: AVX2 AVX512F AVX512_VNNI FMA, in other operations, rebuild TensorFlow with the appropriate compiler flags.\n",
      "2025-08-05 22:21:39.323931: W tensorflow/compiler/tf2tensorrt/utils/py_utils.cc:38] TF-TRT Warning: Could not find TensorRT\n",
      "/opt/conda/lib/python3.11/site-packages/h5py/__init__.py:36: UserWarning: h5py is running against HDF5 1.14.3 when it was built against 1.14.2, this may cause problems\n",
      "  _warn((\"h5py is running against HDF5 {0} when it was built against {1}, \"\n"
     ]
    }
   ],
   "source": [
    "import pandas as pd \n",
    "import numpy as np\n",
    "import nltk \n",
    "from tqdm import tqdm\n",
    "from nltk.corpus import stopwords \n",
    "from tensorflow.keras.preprocessing.text import Tokenizer \n",
    "from tensorflow.keras.preprocessing.sequence import pad_sequences \n",
    "from tensorflow import keras\n",
    "import seaborn as sns \n",
    "from sklearn.metrics import confusion_matrix\n",
    "import matplotlib.pyplot as plt"
   ]
  },
  {
   "cell_type": "markdown",
   "id": "d26fdde0",
   "metadata": {},
   "source": [
    "## 2. Load and Inspect the Dataset"
   ]
  },
  {
   "cell_type": "code",
   "execution_count": 2,
   "id": "0fd0f589",
   "metadata": {},
   "outputs": [
    {
     "data": {
      "text/html": [
       "<div>\n",
       "<style scoped>\n",
       "    .dataframe tbody tr th:only-of-type {\n",
       "        vertical-align: middle;\n",
       "    }\n",
       "\n",
       "    .dataframe tbody tr th {\n",
       "        vertical-align: top;\n",
       "    }\n",
       "\n",
       "    .dataframe thead th {\n",
       "        text-align: right;\n",
       "    }\n",
       "</style>\n",
       "<table border=\"1\" class=\"dataframe\">\n",
       "  <thead>\n",
       "    <tr style=\"text-align: right;\">\n",
       "      <th></th>\n",
       "      <th>Unnamed: 0</th>\n",
       "      <th>count</th>\n",
       "      <th>hate_speech</th>\n",
       "      <th>offensive_language</th>\n",
       "      <th>neither</th>\n",
       "      <th>class</th>\n",
       "      <th>tweet</th>\n",
       "    </tr>\n",
       "  </thead>\n",
       "  <tbody>\n",
       "    <tr>\n",
       "      <th>0</th>\n",
       "      <td>0</td>\n",
       "      <td>3</td>\n",
       "      <td>0</td>\n",
       "      <td>0</td>\n",
       "      <td>3</td>\n",
       "      <td>2</td>\n",
       "      <td>!!! RT @mayasolovely: As a woman you shouldn't...</td>\n",
       "    </tr>\n",
       "    <tr>\n",
       "      <th>1</th>\n",
       "      <td>1</td>\n",
       "      <td>3</td>\n",
       "      <td>0</td>\n",
       "      <td>3</td>\n",
       "      <td>0</td>\n",
       "      <td>1</td>\n",
       "      <td>!!!!! RT @mleew17: boy dats cold...tyga dwn ba...</td>\n",
       "    </tr>\n",
       "    <tr>\n",
       "      <th>2</th>\n",
       "      <td>2</td>\n",
       "      <td>3</td>\n",
       "      <td>0</td>\n",
       "      <td>3</td>\n",
       "      <td>0</td>\n",
       "      <td>1</td>\n",
       "      <td>!!!!!!! RT @UrKindOfBrand Dawg!!!! RT @80sbaby...</td>\n",
       "    </tr>\n",
       "    <tr>\n",
       "      <th>3</th>\n",
       "      <td>3</td>\n",
       "      <td>3</td>\n",
       "      <td>0</td>\n",
       "      <td>2</td>\n",
       "      <td>1</td>\n",
       "      <td>1</td>\n",
       "      <td>!!!!!!!!! RT @C_G_Anderson: @viva_based she lo...</td>\n",
       "    </tr>\n",
       "    <tr>\n",
       "      <th>4</th>\n",
       "      <td>4</td>\n",
       "      <td>6</td>\n",
       "      <td>0</td>\n",
       "      <td>6</td>\n",
       "      <td>0</td>\n",
       "      <td>1</td>\n",
       "      <td>!!!!!!!!!!!!! RT @ShenikaRoberts: The shit you...</td>\n",
       "    </tr>\n",
       "  </tbody>\n",
       "</table>\n",
       "</div>"
      ],
      "text/plain": [
       "   Unnamed: 0  count  hate_speech  offensive_language  neither  class  \\\n",
       "0           0      3            0                   0        3      2   \n",
       "1           1      3            0                   3        0      1   \n",
       "2           2      3            0                   3        0      1   \n",
       "3           3      3            0                   2        1      1   \n",
       "4           4      6            0                   6        0      1   \n",
       "\n",
       "                                               tweet  \n",
       "0  !!! RT @mayasolovely: As a woman you shouldn't...  \n",
       "1  !!!!! RT @mleew17: boy dats cold...tyga dwn ba...  \n",
       "2  !!!!!!! RT @UrKindOfBrand Dawg!!!! RT @80sbaby...  \n",
       "3  !!!!!!!!! RT @C_G_Anderson: @viva_based she lo...  \n",
       "4  !!!!!!!!!!!!! RT @ShenikaRoberts: The shit you...  "
      ]
     },
     "execution_count": 2,
     "metadata": {},
     "output_type": "execute_result"
    }
   ],
   "source": [
    "df = pd.read_csv(\"labeled_data.csv\")\n",
    "df.head()"
   ]
  },
  {
   "cell_type": "markdown",
   "id": "470bcfaa",
   "metadata": {},
   "source": [
    "## 3. Data Cleaning/Preprocessing "
   ]
  },
  {
   "cell_type": "code",
   "execution_count": 3,
   "id": "cefb3f98",
   "metadata": {},
   "outputs": [],
   "source": [
    "df.drop(columns = [\"Unnamed: 0\"], inplace = True)"
   ]
  },
  {
   "cell_type": "code",
   "execution_count": 4,
   "id": "41e5201f",
   "metadata": {},
   "outputs": [],
   "source": [
    "df.rename(columns = {'class': 'label', 'tweet': 'text'}, inplace = True)"
   ]
  },
  {
   "cell_type": "code",
   "execution_count": 5,
   "id": "57ee31eb",
   "metadata": {},
   "outputs": [
    {
     "data": {
      "text/plain": [
       "\"!!! RT @mayasolovely: As a woman you shouldn't complain about cleaning up your house. &amp; as a man you should always take the trash out...\""
      ]
     },
     "execution_count": 5,
     "metadata": {},
     "output_type": "execute_result"
    }
   ],
   "source": [
    "df.isna().sum()\n",
    "df['text'].iloc[0]"
   ]
  },
  {
   "cell_type": "markdown",
   "id": "faa5b503",
   "metadata": {},
   "source": [
    "### Remove Stopwords\n",
    "Stopwords are words such as articles (a, an, the), prepositions (in, on, at), conjunctions (and, but, or), and pronouns (I, he, she) that have little to no significance when it comes natural language processing. Thus, the removal of stopwords will allow the model to be more accurate and robust. "
   ]
  },
  {
   "cell_type": "code",
   "execution_count": 6,
   "id": "8d9bd91e",
   "metadata": {},
   "outputs": [
    {
     "name": "stderr",
     "output_type": "stream",
     "text": [
      "[nltk_data] Downloading package stopwords to /opt/conda/nltk_data...\n",
      "[nltk_data]   Unzipping corpora/stopwords.zip.\n",
      "[nltk_data] Downloading package punkt to /opt/conda/nltk_data...\n",
      "[nltk_data]   Package punkt is already up-to-date!\n",
      "[nltk_data] Downloading package punkt_tab to /opt/conda/nltk_data...\n",
      "[nltk_data]   Unzipping tokenizers/punkt_tab.zip.\n"
     ]
    },
    {
     "data": {
      "text/plain": [
       "True"
      ]
     },
     "execution_count": 6,
     "metadata": {},
     "output_type": "execute_result"
    }
   ],
   "source": [
    "nltk.download('stopwords')\n",
    "nltk.download('punkt')\n",
    "nltk.download('punkt_tab')"
   ]
  },
  {
   "cell_type": "code",
   "execution_count": 7,
   "id": "ea6fbecd",
   "metadata": {},
   "outputs": [
    {
     "data": {
      "text/plain": [
       "{'a',\n",
       " 'about',\n",
       " 'above',\n",
       " 'after',\n",
       " 'again',\n",
       " 'against',\n",
       " 'ain',\n",
       " 'all',\n",
       " 'am',\n",
       " 'an',\n",
       " 'and',\n",
       " 'any',\n",
       " 'are',\n",
       " 'aren',\n",
       " \"aren't\",\n",
       " 'as',\n",
       " 'at',\n",
       " 'be',\n",
       " 'because',\n",
       " 'been',\n",
       " 'before',\n",
       " 'being',\n",
       " 'below',\n",
       " 'between',\n",
       " 'both',\n",
       " 'but',\n",
       " 'by',\n",
       " 'can',\n",
       " 'couldn',\n",
       " \"couldn't\",\n",
       " 'd',\n",
       " 'did',\n",
       " 'didn',\n",
       " \"didn't\",\n",
       " 'do',\n",
       " 'does',\n",
       " 'doesn',\n",
       " \"doesn't\",\n",
       " 'doing',\n",
       " 'don',\n",
       " \"don't\",\n",
       " 'down',\n",
       " 'during',\n",
       " 'each',\n",
       " 'few',\n",
       " 'for',\n",
       " 'from',\n",
       " 'further',\n",
       " 'had',\n",
       " 'hadn',\n",
       " \"hadn't\",\n",
       " 'has',\n",
       " 'hasn',\n",
       " \"hasn't\",\n",
       " 'have',\n",
       " 'haven',\n",
       " \"haven't\",\n",
       " 'having',\n",
       " 'he',\n",
       " \"he'd\",\n",
       " \"he'll\",\n",
       " \"he's\",\n",
       " 'her',\n",
       " 'here',\n",
       " 'hers',\n",
       " 'herself',\n",
       " 'him',\n",
       " 'himself',\n",
       " 'his',\n",
       " 'how',\n",
       " 'i',\n",
       " \"i'd\",\n",
       " \"i'll\",\n",
       " \"i'm\",\n",
       " \"i've\",\n",
       " 'if',\n",
       " 'in',\n",
       " 'into',\n",
       " 'is',\n",
       " 'isn',\n",
       " \"isn't\",\n",
       " 'it',\n",
       " \"it'd\",\n",
       " \"it'll\",\n",
       " \"it's\",\n",
       " 'its',\n",
       " 'itself',\n",
       " 'just',\n",
       " 'll',\n",
       " 'm',\n",
       " 'ma',\n",
       " 'me',\n",
       " 'mightn',\n",
       " \"mightn't\",\n",
       " 'more',\n",
       " 'most',\n",
       " 'mustn',\n",
       " \"mustn't\",\n",
       " 'my',\n",
       " 'myself',\n",
       " 'needn',\n",
       " \"needn't\",\n",
       " 'no',\n",
       " 'nor',\n",
       " 'not',\n",
       " 'now',\n",
       " 'o',\n",
       " 'of',\n",
       " 'off',\n",
       " 'on',\n",
       " 'once',\n",
       " 'only',\n",
       " 'or',\n",
       " 'other',\n",
       " 'our',\n",
       " 'ours',\n",
       " 'ourselves',\n",
       " 'out',\n",
       " 'over',\n",
       " 'own',\n",
       " 're',\n",
       " 's',\n",
       " 'same',\n",
       " 'shan',\n",
       " \"shan't\",\n",
       " 'she',\n",
       " \"she'd\",\n",
       " \"she'll\",\n",
       " \"she's\",\n",
       " 'should',\n",
       " \"should've\",\n",
       " 'shouldn',\n",
       " \"shouldn't\",\n",
       " 'so',\n",
       " 'some',\n",
       " 'such',\n",
       " 't',\n",
       " 'than',\n",
       " 'that',\n",
       " \"that'll\",\n",
       " 'the',\n",
       " 'their',\n",
       " 'theirs',\n",
       " 'them',\n",
       " 'themselves',\n",
       " 'then',\n",
       " 'there',\n",
       " 'these',\n",
       " 'they',\n",
       " \"they'd\",\n",
       " \"they'll\",\n",
       " \"they're\",\n",
       " \"they've\",\n",
       " 'this',\n",
       " 'those',\n",
       " 'through',\n",
       " 'to',\n",
       " 'too',\n",
       " 'under',\n",
       " 'until',\n",
       " 'up',\n",
       " 've',\n",
       " 'very',\n",
       " 'was',\n",
       " 'wasn',\n",
       " \"wasn't\",\n",
       " 'we',\n",
       " \"we'd\",\n",
       " \"we'll\",\n",
       " \"we're\",\n",
       " \"we've\",\n",
       " 'were',\n",
       " 'weren',\n",
       " \"weren't\",\n",
       " 'what',\n",
       " 'when',\n",
       " 'where',\n",
       " 'which',\n",
       " 'while',\n",
       " 'who',\n",
       " 'whom',\n",
       " 'why',\n",
       " 'will',\n",
       " 'with',\n",
       " 'won',\n",
       " \"won't\",\n",
       " 'wouldn',\n",
       " \"wouldn't\",\n",
       " 'y',\n",
       " 'you',\n",
       " \"you'd\",\n",
       " \"you'll\",\n",
       " \"you're\",\n",
       " \"you've\",\n",
       " 'your',\n",
       " 'yours',\n",
       " 'yourself',\n",
       " 'yourselves'}"
      ]
     },
     "execution_count": 7,
     "metadata": {},
     "output_type": "execute_result"
    }
   ],
   "source": [
    "stop_words = set(stopwords.words('english'))\n",
    "len(stop_words)\n",
    "stop_words"
   ]
  },
  {
   "cell_type": "code",
   "execution_count": 8,
   "id": "2b2a26eb",
   "metadata": {},
   "outputs": [],
   "source": [
    "def remove_stopwords(text: str):\n",
    "    if pd.isnull(text):\n",
    "        return \"\"\n",
    "    all_words = nltk.word_tokenize(text)\n",
    "    filtered  = [word for word in all_words if word.lower() not in stop_words]\n",
    "    return \" \".join(filtered)"
   ]
  },
  {
   "cell_type": "code",
   "execution_count": 9,
   "id": "594a9116",
   "metadata": {},
   "outputs": [],
   "source": [
    "df.loc[:10, 'text'] = df.loc[:10, 'text'].apply(remove_stopwords)"
   ]
  },
  {
   "cell_type": "code",
   "execution_count": 10,
   "id": "0474fc7f",
   "metadata": {},
   "outputs": [
    {
     "name": "stderr",
     "output_type": "stream",
     "text": [
      "100%|██████████| 24783/24783 [04:30<00:00, 91.73it/s]\n"
     ]
    }
   ],
   "source": [
    "# Since there is many rows of data, the tokenize() function is very costly in terms of time complexity \n",
    "# Process takes around 6 minutes for completion  \n",
    "tqdm.pandas()\n",
    "df['text'] = df['text'].progress_apply(remove_stopwords)"
   ]
  },
  {
   "cell_type": "code",
   "execution_count": null,
   "id": "ce0d4bb5",
   "metadata": {},
   "outputs": [],
   "source": [
    "df"
   ]
  },
  {
   "cell_type": "markdown",
   "id": "504b4209",
   "metadata": {},
   "source": [
    "### Tokenization and Pad Text Sequences"
   ]
  },
  {
   "cell_type": "code",
   "execution_count": 12,
   "id": "a991cbd6",
   "metadata": {},
   "outputs": [],
   "source": [
    "tokenizer = Tokenizer()\n",
    "tokenizer.fit_on_texts(df['text'])"
   ]
  },
  {
   "cell_type": "code",
   "execution_count": 13,
   "id": "31d89b96",
   "metadata": {},
   "outputs": [],
   "source": [
    "sequences = tokenizer.texts_to_sequences(df['text'])"
   ]
  },
  {
   "cell_type": "code",
   "execution_count": 14,
   "id": "cfdc6866",
   "metadata": {},
   "outputs": [
    {
     "data": {
      "text/plain": [
       "\"! ! ! RT @ mayasolovely : woman n't complain cleaning house . & amp ; man always take trash ...\""
      ]
     },
     "execution_count": 14,
     "metadata": {},
     "output_type": "execute_result"
    }
   ],
   "source": [
    "df['text'].iloc[0]"
   ]
  },
  {
   "cell_type": "code",
   "execution_count": 15,
   "id": "ac5a46fa",
   "metadata": {},
   "outputs": [],
   "source": [
    "max_len = 50\n",
    "\n",
    "padded_sequences = pad_sequences(sequences, maxlen = max_len, padding = 'post')"
   ]
  },
  {
   "cell_type": "code",
   "execution_count": 16,
   "id": "d8714222",
   "metadata": {},
   "outputs": [],
   "source": [
    "# making the labels into a numpy array format \n",
    "labels = np.array(df['label'])"
   ]
  },
  {
   "cell_type": "code",
   "execution_count": 17,
   "id": "8f4f8f46",
   "metadata": {},
   "outputs": [
    {
     "data": {
      "text/plain": [
       "array([2, 1, 1, ..., 1, 1, 2])"
      ]
     },
     "execution_count": 17,
     "metadata": {},
     "output_type": "execute_result"
    }
   ],
   "source": [
    "labels"
   ]
  },
  {
   "cell_type": "markdown",
   "id": "7fa9a710",
   "metadata": {},
   "source": [
    "## 4. Define Model Architecture"
   ]
  },
  {
   "cell_type": "markdown",
   "id": "3a5f1eb9",
   "metadata": {},
   "source": [
    "### Input Layer \n",
    "Necessary to accept the input (in the form of padded sequences)"
   ]
  },
  {
   "cell_type": "code",
   "execution_count": 18,
   "id": "e2f1fbe9",
   "metadata": {},
   "outputs": [],
   "source": [
    "# preparing the inputs first \n",
    "\n",
    "input_layer = keras.layers.Input(shape = (max_len,), name = 'padded_sequences')"
   ]
  },
  {
   "cell_type": "markdown",
   "id": "1849192a",
   "metadata": {},
   "source": [
    "### Embedding Layer \n",
    "Converts word indices into dense vectors of fixed size (128)"
   ]
  },
  {
   "cell_type": "code",
   "execution_count": 19,
   "id": "2a3450e1",
   "metadata": {},
   "outputs": [],
   "source": [
    "embedding_layer = keras.layers.Embedding(input_dim = len(tokenizer.word_index) + 1, output_dim = 128)\n",
    "embedding = embedding_layer(input_layer)"
   ]
  },
  {
   "cell_type": "markdown",
   "id": "f9139c1e",
   "metadata": {},
   "source": [
    "### LSTM Layer \n",
    "Captures sequential patterns and dependencies in the text like the word order "
   ]
  },
  {
   "cell_type": "code",
   "execution_count": 20,
   "id": "e882fb95",
   "metadata": {},
   "outputs": [],
   "source": [
    "shared_lstm = keras.layers.LSTM(70, return_sequences = True)\n",
    "lstm = shared_lstm(embedding)"
   ]
  },
  {
   "cell_type": "markdown",
   "id": "5d072dcd",
   "metadata": {},
   "source": [
    "### Global Average Pooling Layer\n",
    "Reduces the sequence output to a fixed-size vector by averaging over time steps "
   ]
  },
  {
   "cell_type": "code",
   "execution_count": 27,
   "id": "4917b4ef",
   "metadata": {},
   "outputs": [],
   "source": [
    "shared_pooling = keras.layers.GlobalAveragePooling1D()"
   ]
  },
  {
   "cell_type": "markdown",
   "id": "1b919147",
   "metadata": {},
   "source": [
    "### Dropout Layer \n",
    "Randomly sets 50% of inputs to zero during training (helpful to prevent overfitting of the model)"
   ]
  },
  {
   "cell_type": "code",
   "execution_count": null,
   "id": "e780a85a",
   "metadata": {},
   "outputs": [],
   "source": [
    "shared_dropout = keras.layers.Dropout(0.5)"
   ]
  },
  {
   "cell_type": "code",
   "execution_count": 22,
   "id": "4d96c295",
   "metadata": {},
   "outputs": [],
   "source": [
    "features = shared_dropout(shared_pooling(lstm))"
   ]
  },
  {
   "cell_type": "markdown",
   "id": "4cf20b9d",
   "metadata": {},
   "source": [
    "# Output Layer \n",
    "Showcases result of the model by classifying text as either hateful, offensive, or neither "
   ]
  },
  {
   "cell_type": "code",
   "execution_count": 23,
   "id": "f986dbe9",
   "metadata": {},
   "outputs": [],
   "source": [
    "output = keras.layers.Dense(3, activation = 'softmax', name = 'output')(features)"
   ]
  },
  {
   "cell_type": "code",
   "execution_count": null,
   "id": "a8e492b4",
   "metadata": {},
   "outputs": [],
   "source": [
    "model = keras.models.Model(inputs = [input_layer], outputs = [output])\n",
    "model.compile(optimizer = 'adam', loss = {'output': 'sparse_categorical_crossentropy'}, metrics = {'output': 'accuracy'})\n"
   ]
  },
  {
   "cell_type": "markdown",
   "id": "f9a7cbbb",
   "metadata": {},
   "source": [
    "### Model Summary (High-Level Flow):\n",
    "Input → Embedding → LSTM → Pooling → Dropout → Dense Output"
   ]
  },
  {
   "cell_type": "code",
   "execution_count": 25,
   "id": "2ab85966",
   "metadata": {},
   "outputs": [
    {
     "name": "stdout",
     "output_type": "stream",
     "text": [
      "Model: \"model\"\n",
      "_________________________________________________________________\n",
      " Layer (type)                Output Shape              Param #   \n",
      "=================================================================\n",
      " padded_sequences (InputLay  [(None, 50)]              0         \n",
      " er)                                                             \n",
      "                                                                 \n",
      " embedding (Embedding)       (None, 50, 128)           4594176   \n",
      "                                                                 \n",
      " lstm (LSTM)                 (None, 50, 70)            55720     \n",
      "                                                                 \n",
      " global_average_pooling1d (  (None, 70)                0         \n",
      " GlobalAveragePooling1D)                                         \n",
      "                                                                 \n",
      " dropout (Dropout)           (None, 70)                0         \n",
      "                                                                 \n",
      " output (Dense)              (None, 3)                 213       \n",
      "                                                                 \n",
      "=================================================================\n",
      "Total params: 4650109 (17.74 MB)\n",
      "Trainable params: 4650109 (17.74 MB)\n",
      "Non-trainable params: 0 (0.00 Byte)\n",
      "_________________________________________________________________\n"
     ]
    }
   ],
   "source": [
    "model.summary()"
   ]
  },
  {
   "cell_type": "code",
   "execution_count": 26,
   "id": "56bf566d",
   "metadata": {},
   "outputs": [
    {
     "name": "stdout",
     "output_type": "stream",
     "text": [
      "Epoch 1/10\n",
      "6196/6196 [==============================] - 143s 23ms/step - loss: 0.3808 - accuracy: 0.8743\n",
      "Epoch 2/10\n",
      "6196/6196 [==============================] - 143s 23ms/step - loss: 0.2246 - accuracy: 0.9242\n",
      "Epoch 3/10\n",
      "6196/6196 [==============================] - 142s 23ms/step - loss: 0.1284 - accuracy: 0.9581\n",
      "Epoch 4/10\n",
      "6196/6196 [==============================] - 142s 23ms/step - loss: 0.0684 - accuracy: 0.9772\n",
      "Epoch 5/10\n",
      "6196/6196 [==============================] - 143s 23ms/step - loss: 0.0386 - accuracy: 0.9878\n",
      "Epoch 6/10\n",
      "6196/6196 [==============================] - 142s 23ms/step - loss: 0.0248 - accuracy: 0.9919\n",
      "Epoch 7/10\n",
      "6196/6196 [==============================] - 141s 23ms/step - loss: 0.0190 - accuracy: 0.9939\n",
      "Epoch 8/10\n",
      "6196/6196 [==============================] - 141s 23ms/step - loss: 0.0154 - accuracy: 0.9949\n",
      "Epoch 9/10\n",
      "6196/6196 [==============================] - 140s 23ms/step - loss: 0.0100 - accuracy: 0.9967\n",
      "Epoch 10/10\n",
      "6196/6196 [==============================] - 140s 23ms/step - loss: 0.0088 - accuracy: 0.9972\n"
     ]
    },
    {
     "data": {
      "text/plain": [
       "<keras.src.callbacks.History at 0x7f7dd666e110>"
      ]
     },
     "execution_count": 26,
     "metadata": {},
     "output_type": "execute_result"
    }
   ],
   "source": [
    "model.fit(x=padded_sequences, y=labels, epochs=10, batch_size=4)"
   ]
  },
  {
   "cell_type": "code",
   "execution_count": 46,
   "id": "0f4a6c25",
   "metadata": {},
   "outputs": [
    {
     "name": "stdout",
     "output_type": "stream",
     "text": [
      "775/775 [==============================] - 4s 6ms/step\n"
     ]
    }
   ],
   "source": [
    "predictions = model.predict({'padded_sequences': padded_sequences})"
   ]
  },
  {
   "cell_type": "markdown",
   "id": "92a41c18",
   "metadata": {},
   "source": [
    "## 5. Accuracy and Validation\n",
    "\n",
    "#### Key Performance Metrics\n",
    "- **Overall Accuracy**: 99.8%\n",
    "- **Hate Speech**: 98.0% recall, ~98.3% precision\n",
    "- **Offensive Language**: 100% recall, ~99.7% precision  \n",
    "- **Neither**: 100% recall, ~99.9% precision\n",
    "\n",
    "#### Key Observations\n",
    "- **Exceptional overall performance** with near-perfect classification across all categories\n",
    "- **Strongest detection** for \"Neither\" and \"Offensive\" categories (perfect recall)\n",
    "- **Minimal misclassification** with all confusion values ≤ 0.017\n",
    "- **Reliable content moderation** capability with very low false positive rates\n",
    "- **Hate speech detection** shows slightly lower (but still excellent) performance at 98%"
   ]
  },
  {
   "cell_type": "code",
   "execution_count": 47,
   "id": "51d04707",
   "metadata": {},
   "outputs": [],
   "source": [
    "preds = np.argmax(predictions, axis = 1)"
   ]
  },
  {
   "cell_type": "code",
   "execution_count": 54,
   "id": "ddcfc6cc",
   "metadata": {},
   "outputs": [],
   "source": [
    "def plot_confusion_matrix(true, pred, title, labels):\n",
    "    cf = confusion_matrix(true, pred, normalize = 'true')\n",
    "    plt.figure(figsize = (7, 6))\n",
    "    sns.heatmap(cf, annot = True, cmap = \"Blues\", xticklabels = labels, yticklabels = labels)\n",
    "    plt.title(title)\n",
    "    plt.ylabel(\"Actual\")\n",
    "    plt.xlabel(\"Prediction\")\n",
    "\n",
    "hate = ['hate', 'offensive', 'neither']"
   ]
  },
  {
   "cell_type": "code",
   "execution_count": 55,
   "id": "bcfb7445",
   "metadata": {},
   "outputs": [
    {
     "data": {
      "image/png": "[encoded data removed]",
      "text/plain": [
       "<Figure size 700x600 with 2 Axes>"
      ]
     },
     "metadata": {},
     "output_type": "display_data"
    }
   ],
   "source": [
    "plot_confusion_matrix(labels, preds, \"Confusion Matrix for Hate Speech and Offensive Language\", hate)"
   ]
  },
  {
   "cell_type": "markdown",
   "id": "fb2bcc57",
   "metadata": {},
   "source": [
    "## 6. Predictions "
   ]
  },
  {
   "cell_type": "code",
   "execution_count": 58,
   "id": "cc30e4d9",
   "metadata": {},
   "outputs": [],
   "source": [
    "def predict_text(input_text):\n",
    "    # Clean and preprocess the input\n",
    "    tokens = nltk.word_tokenize(input_text)\n",
    "    filtered = [word for word in tokens if word.lower() not in stop_words]\n",
    "    cleaned_text = \" \".join(filtered)\n",
    "\n",
    "    seq = tokenizer.texts_to_sequences([cleaned_text])\n",
    "    padded_seq = pad_sequences(seq, maxlen=50, padding='post')\n",
    "\n",
    "    prediction = model.predict(padded_seq)\n",
    "    pred_class = np.argmax(prediction, axis=1)[0]\n",
    "\n",
    "    label_map = {0: 'hate', 1: 'offensive', 2: 'neither'}\n",
    "    predicted_label = label_map[pred_class]\n",
    "    confidence = prediction[0][pred_class]\n",
    "\n",
    "    print(f\"Input Text: {input_text}\")\n",
    "    print(f\"Predicted Label: {predicted_label} (Confidence: {confidence:.2f})\")\n",
    "\n",
    "    return predicted_label\n"
   ]
  },
  {
   "cell_type": "markdown",
   "id": "7b077769",
   "metadata": {},
   "source": [
    "Enter text enclosed by quotation marks (\" \") starting and ending to see how the model works!\n",
    "<br>\n",
    "Example: ```predict_text(\"coding is amazing\")```"
   ]
  },
  {
   "cell_type": "code",
   "execution_count": 69,
   "id": "a51a8bd5",
   "metadata": {},
   "outputs": [
    {
     "ename": "TypeError",
     "evalue": "predict_text() missing 1 required positional argument: 'input_text'",
     "output_type": "error",
     "traceback": [
      "\u001b[0;31m---------------------------------------------------------------------------\u001b[0m",
      "\u001b[0;31mTypeError\u001b[0m                                 Traceback (most recent call last)",
      "Cell \u001b[0;32mIn[69], line 1\u001b[0m\n\u001b[0;32m----> 1\u001b[0m \u001b[43mpredict_text\u001b[49m\u001b[43m(\u001b[49m\u001b[43m)\u001b[49m\n",
      "\u001b[0;31mTypeError\u001b[0m: predict_text() missing 1 required positional argument: 'input_text'"
     ]
    }
   ],
   "source": [
    "predict_text()"
   ]
  }
 ],
 "metadata": {
  "kernelspec": {
   "display_name": "Python 3 (ipykernel)",
   "language": "python",
   "name": "python3"
  },
  "language_info": {
   "codemirror_mode": {
    "name": "ipython",
    "version": 3
   },
   "file_extension": ".py",
   "mimetype": "text/x-python",
   "name": "python",
   "nbconvert_exporter": "python",
   "pygments_lexer": "ipython3",
   "version": "3.11.6"
  }
 },
 "nbformat": 4,
 "nbformat_minor": 5
}
